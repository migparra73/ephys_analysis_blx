{
 "cells": [
  {
   "cell_type": "code",
   "execution_count": 1,
   "metadata": {},
   "outputs": [],
   "source": [
    "import numpy as np\n",
    "import scipy.stats as stats\n",
    "import scipy\n",
    "from scipy import *\n",
    "import matplotlib.pyplot as plt\n",
    "import brpylib.brpylib as br\n",
    "import csv\n",
    "import seaborn as sns\n",
    "import antropy\n",
    "\n",
    "files = [\n",
    "    './data/04122024.mat',\n",
    "    './data/04132024.mat',\n",
    "'./data/04142024.mat',\n",
    "'./data/04152024.mat',\n",
    "'./data/04162024.mat',\n",
    "'./data/04222024.mat']\n",
    "\n",
    "# Load CSV matter file, load channel # and name\n",
    "headerInfo = []\n",
    "matterDict = {}\n",
    "with open(r'./p064_matter.csv', newline='') as csvfile:\n",
    "    reader = csv.reader(csvfile, delimiter=',')\n",
    "    for idx, row in enumerate(reader):\n",
    "        if(idx == 0):\n",
    "            headerInfo = row\n",
    "        else:\n",
    "            matterDict[int(row[0])] = row[1]"
   ]
  },
  {
   "cell_type": "code",
   "execution_count": null,
   "metadata": {},
   "outputs": [],
   "source": [
    "rms = []\n",
    "zeroCrossings = []\n",
    "spectralEntropy = []\n",
    "for day in files:\n",
    "    data = scipy.io.loadmat(day)\n",
    "    data = np.asarray(data['data'])\n",
    "    data = data.T\n",
    "    zeroCrossings.append(np.sum(np.abs(np.diff(np.sign(data), axis=1)), axis=1))\n",
    "    rms.append(np.sqrt(np.mean(data**2, axis=1)))\n",
    "    spectralEntropy.append(antropy.spectral_entropy(data, 2000, method='welch'))"
   ]
  },
  {
   "cell_type": "code",
   "execution_count": null,
   "metadata": {},
   "outputs": [],
   "source": [
    "rms = np.asarray(rms)\n",
    "zeroCrossings = np.asarray(zeroCrossings)\n",
    "spectralEntropy = np.asarray(spectralEntropy)"
   ]
  },
  {
   "cell_type": "code",
   "execution_count": null,
   "metadata": {},
   "outputs": [],
   "source": [
    "spectralEntropy"
   ]
  },
  {
   "cell_type": "code",
   "execution_count": null,
   "metadata": {},
   "outputs": [],
   "source": [
    "[matterDict[i] for i in range(1, len(matterDict.keys())+1)]"
   ]
  },
  {
   "cell_type": "code",
   "execution_count": null,
   "metadata": {},
   "outputs": [],
   "source": [
    "rms.shape\n",
    "f, ax = plt.subplots(1, 3, figsize=(25, 20))\n",
    "cmap = sns.diverging_palette(600, 0, as_cmap=True)\n",
    "sns.heatmap(rms.T, cmap=cmap, ax=ax[0], square=False, linewidths=0.1, linecolor='black')\n",
    "ax[0].set_xlabel('Day')\n",
    "ax[0].set_xticklabels(['4/12', '4/13', '4/14', '4/15', '4/16', '4/22'])\n",
    "ax[0].set_yticks(np.arange(0, len(matterDict.keys()), 1))\n",
    "ax[0].set_yticklabels([matterDict[i] for i in range(1, len(matterDict.keys())+1)])\n",
    "ax[0].set_title('RMS')\n",
    "\n",
    "\n",
    "sns.heatmap(zeroCrossings.T, cmap=cmap, ax=ax[1], square=False, linewidths=0.1, linecolor='black')\n",
    "ax[1].set_xlabel('Day')\n",
    "ax[1].set_xticklabels(['4/12', '4/13', '4/14', '4/15', '4/16', '4/22'])\n",
    "ax[1].set_yticks(np.arange(0, len(matterDict.keys()), 1))\n",
    "ax[1].set_yticklabels([matterDict[i] for i in range(1, len(matterDict.keys())+1)])\n",
    "ax[1].set_title('Zero Crossings')\n",
    "\n",
    "sns.heatmap(spectralEntropy.T, cmap=cmap, ax=ax[2], square=False, linewidths=0.1, linecolor='black')\n",
    "ax[2].set_xlabel('Day')\n",
    "ax[2].set_xticklabels(['4/12', '4/13', '4/14', '4/15', '4/16', '4/22'])\n",
    "ax[2].set_yticks(np.arange(0, len(matterDict.keys()), 1))\n",
    "ax[2].set_yticklabels([matterDict[i] for i in range(1, len(matterDict.keys())+1)])\n",
    "ax[2].set_title('Spectral Entropy')\n",
    "f.suptitle('RMS, Zero Crossings, and Spectral Entropy for each channel over 6 days')\n",
    "plt.show()\n"
   ]
  },
  {
   "cell_type": "code",
   "execution_count": null,
   "metadata": {},
   "outputs": [],
   "source": []
  }
 ],
 "metadata": {
  "kernelspec": {
   "display_name": "analysis",
   "language": "python",
   "name": "python3"
  },
  "language_info": {
   "codemirror_mode": {
    "name": "ipython",
    "version": 3
   },
   "file_extension": ".py",
   "mimetype": "text/x-python",
   "name": "python",
   "nbconvert_exporter": "python",
   "pygments_lexer": "ipython3",
   "version": "3.9.19"
  }
 },
 "nbformat": 4,
 "nbformat_minor": 2
}

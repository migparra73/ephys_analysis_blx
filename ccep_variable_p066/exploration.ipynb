{
 "cells": [
  {
   "cell_type": "code",
   "execution_count": 1,
   "metadata": {},
   "outputs": [],
   "source": [
    "import numpy as np\n",
    "import matplotlib.pyplot as plt\n",
    "from brpylib import NsxFile\n",
    "import os\n",
    "\n",
    "path_to_data = r'Z:\\neural\\archive\\keck\\P066\\20240731-PH2\\20240805'\n",
    "path_to_matter = r'Z:\\neural\\DICOM\\P066\\processed\\P066_matter.csv'\n",
    "\n",
    "assert(os.path.exists(path_to_data))\n",
    "assert(os.path.exists(path_to_matter))\n",
    "\n",
    "# The data is within the \"NSP1\" folder, and the associated task data is in the \"Task\" folder\n",
    "nsp1_folder = 'NSP1'\n",
    "task_folder = 'Task'\n",
    "nsp1_folder = os.path.join(path_to_data, nsp1_folder)\n",
    "task_folder = os.path.join(path_to_data, task_folder)\n",
    "\n",
    "nsp1_files = os.listdir(nsp1_folder)\n",
    "task_files = os.listdir(task_folder)\n",
    "task_files = [f for f in task_files if f.endswith('.txt')] # The relevant data is in the txt files"
   ]
  },
  {
   "cell_type": "code",
   "execution_count": 2,
   "metadata": {},
   "outputs": [],
   "source": [
    "# Read in the matter file\n",
    "import pandas as pd\n",
    "matter = pd.read_csv(path_to_matter)"
   ]
  },
  {
   "cell_type": "code",
   "execution_count": null,
   "metadata": {},
   "outputs": [],
   "source": []
  },
  {
   "cell_type": "code",
   "execution_count": 3,
   "metadata": {},
   "outputs": [],
   "source": [
    "# The timestamp is in the format \"YYYYMMDD-HHMMSS\" - we want to pick out the txt files with cerestim in the name.\n",
    "variable_isi_files = [f for f in task_files if 'cerestim' in f] # This folder is all variable_isi\n",
    "# extract the timestamp from the filename\n",
    "experiment_ids = [f.split('_')[0] for f in variable_isi_files] # Convienient way to do it since we put everything in snake case and the timestamp ain't.\n",
    "# Now refine the task_files, only keep the ones that are in the experiment_ids\n",
    "task_files = [f for f in task_files if f.split('_')[0] in experiment_ids]"
   ]
  },
  {
   "cell_type": "code",
   "execution_count": 4,
   "metadata": {},
   "outputs": [],
   "source": [
    "# Now look for the corresponding nsp1 files\n",
    "experiments = {}\n",
    "for idx, t in enumerate(experiment_ids):\n",
    "    this_experiment = [f for f in nsp1_files if t in f]\n",
    "    experiments[t] = this_experiment"
   ]
  },
  {
   "cell_type": "code",
   "execution_count": 5,
   "metadata": {},
   "outputs": [
    {
     "data": {
      "text/plain": [
       "['20240805-131741_cerestim_05_08_2024_13_18_18_993_e1_33_e2_34_ITI_1_stimCount_60_blockCount_20_IBI_20_aim2.txt',\n",
       " '20240805-131741_diary.txt',\n",
       " '20240805-135053_cerestim_05_08_2024_13_51_35_711_e1_7_e2_8_ITI_1_stimCount_60_blockCount_20_IBI_20_aim2.txt',\n",
       " '20240805-135053_diary.txt',\n",
       " '20240805-142430_cerestim_05_08_2024_14_29_25_951_e1_39_e2_40_ITI_1_stimCount_60_blockCount_20_IBI_20_aim2.txt',\n",
       " '20240805-142430_diary.txt']"
      ]
     },
     "execution_count": 5,
     "metadata": {},
     "output_type": "execute_result"
    }
   ],
   "source": [
    "task_files"
   ]
  },
  {
   "cell_type": "code",
   "execution_count": 6,
   "metadata": {},
   "outputs": [
    {
     "name": "stdout",
     "output_type": "stream",
     "text": [
      "Comments: CCEP bipolar, 6 mA, 1s ISI variable, ON meds, non-SOZ, Gray matter stim sites 33 34, reference in white matter (channel 25).\n",
      "\n",
      "Comments: CCEP bipolar, 6 mA, 1s ISI variable, ON meds, non-SOZ, Gray-White matter stim sites 7 8, reference in white matter (channel 25).\n",
      "\n",
      "Comments: CCEP bipolar, 6 mA, 1s ISI variable, ON meds, non-SOZ, Gray-White matter stim sites 39 40, reference in white matter (channel 25).\n",
      "\n"
     ]
    }
   ],
   "source": [
    "# Print the last line of the files with \"diary\" in the name\n",
    "diary_files = [f for f in task_files if 'diary' in f]\n",
    "for d in diary_files:\n",
    "    with open(os.path.join(task_folder, d), 'r') as f:\n",
    "        lines = f.readlines()\n",
    "        # Print the last non-empty line\n",
    "        for l in reversed(lines):\n",
    "            if l.strip():\n",
    "                print(l)\n",
    "                break\n"
   ]
  },
  {
   "cell_type": "code",
   "execution_count": 8,
   "metadata": {},
   "outputs": [
    {
     "data": {
      "text/plain": [
       "['20240805-131741-131806-RecordCCEP-NSP1-001.ccf',\n",
       " '20240805-131741-131806-RecordCCEP-NSP1-001.nev',\n",
       " '20240805-131741-131806-RecordCCEP-NSP1-001.ns3',\n",
       " '20240805-131741-131806-RecordCCEP-NSP1-001.ns4',\n",
       " '20240805-131741-131806-RecordCCEP-NSP1-001.ns5',\n",
       " '20240805-131741-131806-RecordCCEP-NSP1-001.ns6']"
      ]
     },
     "execution_count": 8,
     "metadata": {},
     "output_type": "execute_result"
    }
   ],
   "source": [
    "experiments[experiment_ids[0]]\n",
    "# NS3 files are 2khz, NS4 files are 10khz, NS5 files are 30khz filtered, and NS6 files are 30khz unfiltered\n",
    "# We want the NS3 files for now.\n",
    "# We can use the Blackrock library to read the data\n",
    "# First, we need to initialize the library"
   ]
  },
  {
   "cell_type": "code",
   "execution_count": 122,
   "metadata": {},
   "outputs": [
    {
     "name": "stdout",
     "output_type": "stream",
     "text": [
      "\n",
      "Z:\\neural\\archive\\keck\\P066\\20240731-PH2\\20240805\\NSP1\\20240805-131741-131806-RecordCCEP-NSP1-001.ns3 opened\n"
     ]
    }
   ],
   "source": [
    "# load the Ns3 file\n",
    "nsx = NsxFile(os.path.join(nsp1_folder, experiments[experiment_ids[0]][2]))\n",
    "stim_electrodes = [32, 33] # Is this zero based?"
   ]
  },
  {
   "cell_type": "code",
   "execution_count": 123,
   "metadata": {},
   "outputs": [],
   "source": [
    "nsx_data = nsx.getdata(elec_ids=stim_electrodes)\n",
    "stimSite = matter[matter['ChannelNumber'] == 33]['ElectrodeName'].values[0]"
   ]
  },
  {
   "cell_type": "code",
   "execution_count": 124,
   "metadata": {},
   "outputs": [
    {
     "data": {
      "text/plain": [
       "{'start_time_s': 0.0,\n",
       " 'data_time_s': 'all',\n",
       " 'downsample': 1,\n",
       " 'elec_ids': [32, 33],\n",
       " 'data_headers': [{'Timestamp': np.int32(0),\n",
       "   'NumDataPoints': 3652576,\n",
       "   'data_time_s': 1826.288}],\n",
       " 'data': [memmap([[ -43,  -44,  -38, ..., -116, -110, -107],\n",
       "          [   0,    0,    0, ...,    0,    0,    0],\n",
       "          [-104,  -96,  -91, ...,  -94,  -94,  -84],\n",
       "          ...,\n",
       "          [  11,   15,   33, ...,  -85,  -88,  -86],\n",
       "          [ -24,  -14,    6, ...,  -33,  -33,  -31],\n",
       "          [   1,    2,   13, ...,    9,    8,    7]], dtype=int16)],\n",
       " 'samp_per_s': 2000.0}"
      ]
     },
     "execution_count": 124,
     "metadata": {},
     "output_type": "execute_result"
    }
   ],
   "source": [
    "nsx_data"
   ]
  },
  {
   "cell_type": "code",
   "execution_count": 159,
   "metadata": {},
   "outputs": [],
   "source": [
    "# Construct the time vector\n",
    "%matplotlib qt\n",
    "points = nsx_data['data_headers'][0]['NumDataPoints']\n",
    "fs = int(nsx_data['samp_per_s'])\n",
    "totalTimeSec = nsx_data['data_headers'][0]['data_time_s']\n",
    "#print(points, fs, totalTimeSec)\n",
    "\n",
    "\n",
    "time_range = np.linspace(0, totalTimeSec, points)\n",
    "# Create a mapping from the int data to actual uV. The digital range is -32768 to 32767, and the analog range is -8191 to 8191 uV\n",
    "# The factor is 8191/32768\n",
    "conversionFactor = 8191/32768\n",
    "from scipy import signal\n",
    "elec_33 = (nsx_data['data'][0][32] * (conversionFactor))\n",
    "plt.close('all')\n",
    "# Find the indices of the stimulation pulses\n",
    "# The peaks are going to be above 7000 uV, but we want to find the point where the rate of change is the highest (and positive)\n",
    "from scipy.signal import find_peaks\n",
    "# Plot the first 200 seconds\n",
    "# Take the derivative of the signal, and we will find the peaks of the derivative. That will tell us when the stimulation is starting.\n",
    "# Make sure here that this contact is the positive first contact. If it is the negative contact, then the derivative will be negative and the peak finding will be wrong.\n",
    "elec_33_diff = np.diff((elec_33))\n"
   ]
  },
  {
   "cell_type": "code",
   "execution_count": 160,
   "metadata": {},
   "outputs": [
    {
     "data": {
      "text/plain": [
       "[<matplotlib.lines.Line2D at 0x27c259cb020>]"
      ]
     },
     "execution_count": 160,
     "metadata": {},
     "output_type": "execute_result"
    }
   ],
   "source": [
    "plt.figure()\n",
    "plt.plot(elec_33_diff[:200*fs], color='r')\n",
    "plt.plot(elec_33[:200*fs], color='b')"
   ]
  },
  {
   "cell_type": "code",
   "execution_count": 164,
   "metadata": {},
   "outputs": [
    {
     "name": "stdout",
     "output_type": "stream",
     "text": [
      "1200\n"
     ]
    }
   ],
   "source": [
    "peakLocations2 = find_peaks(elec_33_diff, distance=fs*0.5, height=2000)\n",
    "# Find prominent peaks\n",
    "\n",
    "indices, values = peakLocations2\n",
    "shortenedIndices = indices[indices < 100*fs]\n",
    "print(len(indices))\n",
    "plt.close('all')\n",
    "plt.figure()\n",
    "plt.plot(time_range[:100*fs], elec_33[:100*fs], alpha=0.2)\n",
    "plt.plot(time_range[:100*fs], elec_33_diff[:100*fs])\n",
    "plt.plot(time_range[shortenedIndices], elec_33_diff[shortenedIndices], 'ro')\n",
    "plt.legend(['Signal', 'Derivative', 'Stimulations'])\n",
    "# Now also plot the derivative\n",
    "\n",
    "# Check to see that each peak is at least 500 ms apart.\n",
    "for i in range(len(indices)-1):\n",
    "    if time_range[indices[i+1]] - time_range[indices[i]] < 0.5:\n",
    "        print('Warning: Two stimulations are less than 500 ms apart')\n",
    "        print('Time between stimulations: ', time_range[indices[i+1]] - time_range[indices[i]])\n",
    "        print('Stimulation indices: ', indices[i], indices[i+1])\n",
    "\n",
    "blockStarts = []\n",
    "blockStarts.append(indices[0])\n",
    "blockEnds = []\n",
    "blockEnds.append(indices[-1])\n",
    "for i in range(len(indices)-1):\n",
    "    currentTime = time_range[indices[i]]\n",
    "    nextTime = time_range[indices[i+1]]\n",
    "    # 20 groups of 60 stimulations, we want to find the splits.\n",
    "    if nextTime - currentTime > 5:\n",
    "        blockStarts.append(indices[i+1])\n",
    "        blockEnds.append(indices[i])\n",
    "\n",
    "blockStarts.sort()\n",
    "blockEnds.sort()"
   ]
  },
  {
   "cell_type": "code",
   "execution_count": 169,
   "metadata": {},
   "outputs": [],
   "source": [
    "all_data = nsx_data['data'][0]"
   ]
  },
  {
   "cell_type": "code",
   "execution_count": 166,
   "metadata": {},
   "outputs": [],
   "source": [
    "timeRanges = [(x, y) for x, y in zip(blockStarts, blockEnds)]\n",
    "# Check that each time range is less than 2 minutes.\n",
    "for i, t in enumerate(timeRanges):\n",
    "    if time_range[t[1]] - time_range[t[0]] > 80:\n",
    "        print('Warning: Time range is greater than 2 minutes')\n",
    "        print('Time range: ', time_range[t[1]] - time_range[t[0]])\n",
    "        print('Time range indices: ', t)\n",
    "\n",
    "# Now what we'd like to do is find the stimulations that fit within each timerange, and then create a dictionary with the stim indices. Each key will be the time range, and the value will be the indices of the stimulations that fit within that time range.\n",
    "stimIndices = {}\n",
    "for i, t in enumerate(timeRanges):\n",
    "    stimIndices[i] = []\n",
    "    stimIndices[i].append(t[0])\n",
    "    for j in indices:\n",
    "        if j > t[0] and j < t[1]:\n",
    "            stimIndices[i].append(j)\n",
    "    stimIndices[i].append(t[1])\n",
    "\n",
    "# Convert the dictionary to a matrix, where each row is a time range, and each column is a stimulation index\n",
    "# Should be a 20x60 matrix\n",
    "stimMatrix = np.zeros([len(stimIndices), len(stimIndices[1])], dtype=int)\n",
    "for i in range(len(stimIndices)):\n",
    "    stimMatrix[i] = stimIndices[i]\n",
    "\n",
    "assert(stimMatrix.shape == (20, 60))\n",
    "\n",
    "elec_22 = (nsx_data['data'][0][21] * (conversionFactor))\n",
    "\n",
    "stimMatrix_indices = stimMatrix.T\n",
    "plt.close('all')\n",
    "plt.figure()\n",
    "for x in stimMatrix_indices[0]:\n",
    "    plt.plot(elec_22[x-100:x+100])"
   ]
  },
  {
   "cell_type": "code",
   "execution_count": 207,
   "metadata": {},
   "outputs": [],
   "source": [
    "# Now that we have the stimulation index matrix, we can start making some neat figures.\n",
    "\n",
    "# Get 200 ms around stimulation\n",
    "os.makedirs('stimulation_figures', exist_ok=True)\n",
    "fig_time = np.linspace(((-100.0)/fs)*1000, ((100.0)/fs)*1000, 200)\n",
    "elec_22_stim_0 = []\n",
    "for idx, index in enumerate(stimMatrix_indices):\n",
    "    plt.figure()\n",
    "    plt.title('Stimulation at index: ' + str(idx+1))\n",
    "    plt.xlabel('Time (ms)')\n",
    "    plt.ylabel('Voltage (uV)')\n",
    "    for jdx, stim in enumerate(index):\n",
    "        plt.plot(fig_time, elec_22[stim-100:stim+100])\n",
    "        if(idx == 0):\n",
    "            elec_22_stim_0.append(elec_22[stim-100:stim+100])\n",
    "    plt.savefig('stimulation_figures/stimulation_' + str(jdx) + '_block_' + str(idx) + '.png')\n",
    "    plt.close('all')\n",
    "elec_22_stim_0 = np.array(elec_22_stim_0)"
   ]
  },
  {
   "cell_type": "code",
   "execution_count": 205,
   "metadata": {},
   "outputs": [],
   "source": [
    "elec_22_stim_0 = elec_22_stim_0"
   ]
  },
  {
   "cell_type": "code",
   "execution_count": 210,
   "metadata": {},
   "outputs": [
    {
     "data": {
      "text/plain": [
       "20"
      ]
     },
     "execution_count": 210,
     "metadata": {},
     "output_type": "execute_result"
    }
   ],
   "source": [
    "elec_22_stim_0.shape[0]"
   ]
  },
  {
   "cell_type": "code",
   "execution_count": 208,
   "metadata": {},
   "outputs": [
    {
     "name": "stderr",
     "output_type": "stream",
     "text": [
      "c:\\Users\\Miguel\\miniforge3\\envs\\ephysAnalysis\\Lib\\site-packages\\seaborn\\axisgrid.py:854: FutureWarning: \n",
      "\n",
      "The `ci` parameter is deprecated. Use `errorbar=('ci', 95)` for the same effect.\n",
      "\n",
      "  func(*plot_args, **plot_kwargs)\n"
     ]
    },
    {
     "data": {
      "text/plain": [
       "<seaborn.axisgrid.FacetGrid at 0x27cf3d37770>"
      ]
     },
     "execution_count": 208,
     "metadata": {},
     "output_type": "execute_result"
    }
   ],
   "source": [
    "# Now, lets do this again, but with 95% confidence intervals\n",
    "# Seaborn needs pandas to work properly for most things.\n",
    "import pandas as pd\n",
    "import seaborn as sns\n",
    "import matplotlib.pyplot as plt\n",
    "plt.close('all')\n",
    "elec_22_df = pd.DataFrame(elec_22_stim_0)\n",
    "elec_22_df_long = elec_22_df.melt(var_name='Time', value_name='Voltage')\n",
    "sns.relplot(data=elec_22_df_long, kind='line', ci=95, x='Time', y='Voltage')"
   ]
  },
  {
   "cell_type": "code",
   "execution_count": null,
   "metadata": {},
   "outputs": [],
   "source": []
  },
  {
   "cell_type": "code",
   "execution_count": null,
   "metadata": {},
   "outputs": [],
   "source": [
    "# Now check that each stimIndices list has 60 stimulations\n",
    "for k, v in stimIndices.items():\n",
    "    if len(v) != 60:\n",
    "        print('Warning: StimIndices list does not have 60 stimulations')\n",
    "        print('Length of stimIndices list: ', len(v))\n",
    "        print('Time range: ', timeRanges[k])\n",
    "        print('Indices: ', v)\n",
    "\n",
    "# This is the time averaged version.\n",
    "plt.title('Time averaged version')\n",
    "all_data = nsx_data['data'][0]\n",
    "# Now that we have all 1200 stimulations grouped by block, we can calculate the block averaged (spatial) evoked potentials.\n",
    "timeWindow = 0.200 # 200 ms\n",
    "rawBlocks = {}\n",
    "os.makedirs('./figs_time', exist_ok=True)\n",
    "for channelIdx, electrode in enumerate(all_data):\n",
    "    plt.figure()\n",
    "    for k, v in stimIndices.items():\n",
    "        blockAverage = np.zeros(210)\n",
    "        rawBlocks[k] = []\n",
    "        for i in range(60):\n",
    "            rawBlocks[k].append(electrode[v[i]-10:v[i]+200])\n",
    "            blockAverage += electrode[v[i]-10:v[i]+200]\n",
    "        blockAverage /= 60\n",
    "        plt.plot(blockAverage)\n",
    "        plt.xlabel('Time (ms)')\n",
    "        plt.ylabel('uV')\n",
    "        # Plot the stimulation time point (0)\n",
    "        #plt.axvline(x=10, color='r')\n",
    "    try:\n",
    "        channelNumber = matter.iloc(1)[0][channelIdx]\n",
    "        channelName = matter[matter['ChannelNumber'] == channelNumber]['ElectrodeName'].values[0]\n",
    "        matter_type = matter[matter['ChannelNumber'] == channelNumber]['MatterType'].values[0]\n",
    "    except:\n",
    "        channelName = 'Unknown'\n",
    "        matter_type = 'Unknown'\n",
    "    plt.title('Channel ' + str(channelNumber) + ' ' + channelName + '_stimSite = ' + stimSite + '_' + matter_type + ' time averaged')\n",
    "    plt.savefig('./figs_time/Channel_' + str(channelNumber) + '_' + channelName + '_timeAvgOverlaid_' + 'stim_site=' + stimSite + '_' + matter_type + '.png')\n",
    "    plt.close('all')"
   ]
  },
  {
   "cell_type": "code",
   "execution_count": null,
   "metadata": {},
   "outputs": [],
   "source": [
    "# Now check that each stimIndices list has 60 stimulations\n",
    "import time\n",
    "import os\n",
    "for k, v in stimIndices.items():\n",
    "    if len(v) != 60:\n",
    "        print('Warning: StimIndices list does not have 62 stimulations')\n",
    "        print('Length of stimIndices list: ', len(v))\n",
    "        print('Time range: ', timeRanges[k])\n",
    "        print('Indices: ', v)\n",
    "\n",
    "# This will be the block averaged version.\n",
    "# Now that we have all 1200 stimulations grouped by block, we can calculate the block averaged (spatial) evoked potentials.\n",
    "for channelIdx, electrode in enumerate(all_data):\n",
    "    plt.figure()\n",
    "    for block in range(60):\n",
    "        blockAverage = np.zeros(210)\n",
    "        for k, v in stimIndices.items():\n",
    "            blockAverage += electrode[v[block]-10:v[block]+200]\n",
    "        blockAverage /= len(stimIndices)\n",
    "        plt.plot(blockAverage)\n",
    "        plt.xlabel('Time (ms)')\n",
    "        plt.ylabel('uV')\n",
    "    try:\n",
    "        channelNumber = matter.iloc(1)[0][channelIdx]\n",
    "        channelName = matter[matter['ChannelNumber'] == channelNumber]['ElectrodeName'].values[0]\n",
    "        matter_type = matter[matter['ChannelNumber'] == channelNumber]['MatterType'].values[0]\n",
    "    except:\n",
    "        channelName = 'Unknown'\n",
    "        matter_type = 'Unknown'\n",
    "    plt.title('Channel ' + str(channelNumber) + ' ' + channelName + ' ' + 'stim site ' + stimSite + ' ' + matter_type + ' all blocks overlayed')\n",
    "    # Convert channelIdx to a string using the matter file.\n",
    "    os.makedirs('./figs_block', exist_ok=True)\n",
    "    plt.savefig('./figs_block/Channel_' + str(channelNumber) +  '_' + channelName + 'stim_site_' + stimSite + '_all_blocks_overlayed_' + matter_type + '.png')\n",
    "    plt.close('all')"
   ]
  },
  {
   "cell_type": "code",
   "execution_count": null,
   "metadata": {},
   "outputs": [],
   "source": [
    "# We now want to analyze the data in the 10 seconds after the last stimulation for each block\n",
    "lastStims = []\n",
    "for k, v in stimIndices.items():\n",
    "    lastStims.append(v[-1] + int(0.050 * fs)) # 50 ms after the last stimulation\n",
    "\n",
    "# We have the indices of the last stimulations, now subdivide that into 10 bins of equal length\n",
    "timeAfterStim = 10\n",
    "timeAfterStimIndices = [x + int(timeAfterStim * fs) for x in lastStims]\n",
    "# Subdivide the range into 10 intervals\n",
    "analysis_intervals = [(start, end) for start, end in zip(lastStims, timeAfterStimIndices)]\n",
    "step_length = [end - start for start, end in analysis_intervals]"
   ]
  },
  {
   "cell_type": "code",
   "execution_count": null,
   "metadata": {},
   "outputs": [],
   "source": [
    "x_time = np.linspace(0, 10, step_length[0])\n",
    "for channelIdx, electrode in enumerate(all_data):\n",
    "    plt.figure()\n",
    "    average = np.zeros(step_length[0])\n",
    "    for i, interval in enumerate(analysis_intervals):\n",
    "        average += electrode[interval[0]:interval[1]]\n",
    "    try:\n",
    "        channelNumber = matter.iloc(1)[0][channelIdx]\n",
    "        channelName = matter[matter['ChannelNumber'] == channelNumber]['ElectrodeName'].values[0]\n",
    "        matter_type = matter[matter['ChannelNumber'] == channelNumber]['MatterType'].values[0]\n",
    "    except:\n",
    "        channelName = 'Unknown'\n",
    "        matter_type = 'Unknown'\n",
    "    average /= len(analysis_intervals)\n",
    "    plt.plot(x_time, average)\n",
    "    plt.ylabel('uV')\n",
    "    plt.xlabel('Time (s)')\n",
    "    plt.title('Channel ' + str(channelNumber) + ' ' + channelName + ' ' + 'stim site ' + stimSite + ' ' + matter_type + ' all blocks overlayed')\n",
    "    # Convert channelIdx to a string using the matter file.\n",
    "    os.makedirs('./figs_last_stims', exist_ok=True)\n",
    "    plt.savefig('./figs_last_stims/Channel_' + str(channelNumber) +  '_' + channelName + 'stim_site_' + stimSite + '_last_stims_' + matter_type + '.png')\n",
    "    plt.close('all')\n"
   ]
  },
  {
   "cell_type": "code",
   "execution_count": null,
   "metadata": {},
   "outputs": [],
   "source": [
    "# With the analysis intervals, let us subdivide this further into a list of 10 tuples, containing the start and end of each 1 second period.\n",
    "# There should be 200 1 second periods.\n",
    "one_second_intervals = {}\n",
    "for idx, interval in enumerate(analysis_intervals):\n",
    "    start = interval[0]\n",
    "    end = start + int(fs)\n",
    "    one_second_intervals[idx] = []\n",
    "    while end <= interval[1]:\n",
    "        one_second_intervals[idx].append((start, end))\n",
    "        start = end\n",
    "        end = start + int(fs)"
   ]
  },
  {
   "cell_type": "code",
   "execution_count": null,
   "metadata": {},
   "outputs": [],
   "source": [
    "one_second_intervals[0]"
   ]
  },
  {
   "cell_type": "code",
   "execution_count": null,
   "metadata": {},
   "outputs": [],
   "source": [
    "# Now we can calculate the average of each 1 second period.\n",
    "fs = int(fs)\n",
    "# number of 1 second intervals\n",
    "n_intervals = len(one_second_intervals[0])\n",
    "x_time = np.linspace(0, 1, fs)\n",
    "plt.close('all')\n",
    "for channelIdx, electrode in enumerate(all_data):\n",
    "    for idx in range(n_intervals):\n",
    "        # Here in the outer loop we are iterating over blocks. We really need some consistent terminology cause this is confusing.\n",
    "        plt.figure()\n",
    "        average = np.zeros(fs)\n",
    "        avg_count = 0\n",
    "        for interval in one_second_intervals.keys():\n",
    "            start, end = one_second_intervals[interval][idx]\n",
    "            plt.plot(x_time, electrode[start:end], alpha=0.1)\n",
    "            average += electrode[start:end]\n",
    "            avg_count += 1\n",
    "        average /= avg_count\n",
    "        try:\n",
    "            channelNumber = matter.iloc(1)[0][channelIdx]\n",
    "            channelName = matter[matter['ChannelNumber'] == channelNumber]['ElectrodeName'].values[0]\n",
    "            matter_type = matter[matter['ChannelNumber'] == channelNumber]['MatterType'].values[0]\n",
    "        except:\n",
    "            channelName = 'Unknown'\n",
    "            matter_type = 'Unknown'\n",
    "        plt.plot(x_time, average)\n",
    "        plt.ylabel('uV')\n",
    "        plt.xlabel('Time (s)')\n",
    "        plt.title('Ghost Stim Channel ' + str(channelNumber) + ' ' + channelName + ' ' + 'stim site ' + stimSite +  '_ghost_EP_' + str(idx) + ' ' + matter_type + ' index averaged')\n",
    "        os.makedirs('./figs_ghost_stims', exist_ok=True)\n",
    "        plt.savefig('./figs_ghost_stims/Channel_' + str(channelNumber) +  '_' + channelName + 'stim_site_' + stimSite + 'ghost_EP_' + str(idx) + '_' + matter_type + '.png')\n",
    "    plt.close('all')"
   ]
  },
  {
   "cell_type": "code",
   "execution_count": null,
   "metadata": {},
   "outputs": [],
   "source": [
    "# Plot the raw 10 seconds after the last stimulation\n",
    "x_Time = np.linspace(0, timeAfterStim, timeAfterStimIndex - lastStimIndex)\n",
    "for channelIdx, electrode in enumerate(all_data):\n",
    "    plt.figure()\n",
    "    plt.plot(x_Time, electrode[rangeAfterStim[0]:rangeAfterStim[1]])\n",
    "    plt.xlabel('Time (s)')\n",
    "    plt.ylabel('uV')\n",
    "    try:\n",
    "        channelNumber = matter.iloc(1)[0][channelIdx]\n",
    "        channelName = matter[matter['ChannelNumber'] == channelNumber]['ElectrodeName'].values[0]\n",
    "        matter_type = matter[matter['ChannelNumber'] == channelNumber]['MatterType'].values[0]\n",
    "    except:\n",
    "        channelName = 'Unknown'\n",
    "        matter_type = 'Unknown'\n",
    "    plt.title('Channel ' + str(channelNumber) + ' ' + channelName + ' ' + 'stim site ' + stimSite + ' ' + matter_type + ' raw 10 seconds after last stim')\n",
    "    os.makedirs('./figs_last_stim_raw', exist_ok=True)\n",
    "    plt.savefig('./figs_last_stim_raw/Channel_' + str(channelNumber) +  '_' + channelName + 'stim_site_' + stimSite + '_10_seconds_after_last_stim_raw_' + matter_type + '.png')\n",
    "    plt.close('all')"
   ]
  },
  {
   "cell_type": "code",
   "execution_count": null,
   "metadata": {},
   "outputs": [],
   "source": [
    "from dtw import *\n",
    "\n",
    "# Now we want to compare the raw blocks array within itself\n",
    "# We can use the dtw package to do this\n",
    "for block in rawBlocks:\n",
    "    for idx in range(block):\n",
    "        for idx2 in range(block):\n",
    "            if idx != idx2:\n",
    "                try:\n",
    "                    channelNumber = matter.iloc(1)[0][block]\n",
    "                    channelName = matter[matter['ChannelNumber'] == channelNumber]['ElectrodeName'].values[0]\n",
    "                    matter_type = matter[matter['ChannelNumber'] == channelNumber]['MatterType'].values[0]\n",
    "                except:\n",
    "                    channelName = 'Unknown'\n",
    "                    matter_type = 'Unknown'\n",
    "                alignment = dtw(rawBlocks[block][idx], rawBlocks[block][idx2], keep_internals=True)\n",
    "                alignment.plot(type=\"twoway\")\n",
    "                plt.title('Block ' + str(block) + ' ' + 'Channel ' + str(channelNumber) + ' ' + channelName + ' ' + 'stim site ' + stimSite + ' ' + matter_type + ' ' + 'DTW between index ' + str(idx) + ' and index ' + str(idx2))\n",
    "                os.makedirs('./figs_dtw', exist_ok=True)\n",
    "                plt.savefig('./figs_dtw/Channel_' + str(channelNumber) +  '_' + channelName + 'index0_' + str(idx) + '_index1_' + str(idx2) + '_DTW_' + matter_type + '.png')\n",
    "                plt.close('all')"
   ]
  },
  {
   "cell_type": "code",
   "execution_count": null,
   "metadata": {},
   "outputs": [],
   "source": [
    "# Let's start fresh from here. How is our data organized? We have one \"experiment\", which consists of 60 stimulations. These stimulations will be called the trials.\n",
    "# We ran 20 experiments, so we have 20 blocks of 60 stimulations.\n",
    "\n",
    "# There are two methods of finding an \"average\" EP. The first is to do a time-domain average of the EPs within one experiment. The result of this will be 20 EPs, one for each experiment.\n",
    "# The second method is to do an average by index, meaning within each experiment we average the EPs that share the same stimulation index. The result of this will be 60 EPs, one for each stimulation index.\n",
    "\n",
    "# The whole point of this experiment is to see how different the EP is at the starting indices of each experiment.\n",
    "plt.close('all')\n",
    "plt.figure()\n",
    "firstStims = [v[0] for k, v in stimIndices.items()]\n",
    "\n",
    "stimsByIndex = {}\n",
    "for k, v in stimIndices.items():\n",
    "    for idx, stim in enumerate(v):\n",
    "        if idx not in stimsByIndex:\n",
    "            stimsByIndex[idx] = []\n",
    "        stimsByIndex[idx].append(stim)\n",
    "\n",
    "\n",
    "for x in firstStims:\n",
    "    plt.plot(all_data[33][x-100:x+200])"
   ]
  }
 ],
 "metadata": {
  "kernelspec": {
   "display_name": "analysis",
   "language": "python",
   "name": "python3"
  },
  "language_info": {
   "codemirror_mode": {
    "name": "ipython",
    "version": 3
   },
   "file_extension": ".py",
   "mimetype": "text/x-python",
   "name": "python",
   "nbconvert_exporter": "python",
   "pygments_lexer": "ipython3",
   "version": "3.12.5"
  }
 },
 "nbformat": 4,
 "nbformat_minor": 2
}
